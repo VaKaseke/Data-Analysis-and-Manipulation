{
 "cells": [
  {
   "cell_type": "code",
   "execution_count": 28,
   "id": "8e9d68c2",
   "metadata": {},
   "outputs": [],
   "source": [
    "# Importing libraries\n",
    "import pandas as pd\n",
    "import numpy as np\n",
    "from matplotlib import pyplot as plt"
   ]
  },
  {
   "cell_type": "code",
   "execution_count": 6,
   "id": "759773e0",
   "metadata": {},
   "outputs": [
    {
     "name": "stderr",
     "output_type": "stream",
     "text": [
      "'wget' is not recognized as an internal or external command,\n",
      "operable program or batch file.\n"
     ]
    }
   ],
   "source": [
    "# Importing Dataset\n",
    "!wget https://raw.githubusercontent.com/MicrosoftDocs/mslearn-introduction-to-machine-learning/main/Data/titanic.csv"
   ]
  },
  {
   "cell_type": "code",
   "execution_count": 9,
   "id": "3485cf4b",
   "metadata": {},
   "outputs": [],
   "source": [
    "dataset = pd.read_csv('titanic.csv', index_col=False, sep=\",\", header=0)"
   ]
  },
  {
   "cell_type": "code",
   "execution_count": 10,
   "id": "00ddf80a",
   "metadata": {},
   "outputs": [
    {
     "data": {
      "text/html": [
       "<div>\n",
       "<style scoped>\n",
       "    .dataframe tbody tr th:only-of-type {\n",
       "        vertical-align: middle;\n",
       "    }\n",
       "\n",
       "    .dataframe tbody tr th {\n",
       "        vertical-align: top;\n",
       "    }\n",
       "\n",
       "    .dataframe thead th {\n",
       "        text-align: right;\n",
       "    }\n",
       "</style>\n",
       "<table border=\"1\" class=\"dataframe\">\n",
       "  <thead>\n",
       "    <tr style=\"text-align: right;\">\n",
       "      <th></th>\n",
       "      <th>PassengerId</th>\n",
       "      <th>Survived</th>\n",
       "      <th>Pclass</th>\n",
       "      <th>Name</th>\n",
       "      <th>Sex</th>\n",
       "      <th>Age</th>\n",
       "      <th>SibSp</th>\n",
       "      <th>Parch</th>\n",
       "      <th>Ticket</th>\n",
       "      <th>Fare</th>\n",
       "      <th>Cabin</th>\n",
       "      <th>Embarked</th>\n",
       "    </tr>\n",
       "  </thead>\n",
       "  <tbody>\n",
       "    <tr>\n",
       "      <th>0</th>\n",
       "      <td>1</td>\n",
       "      <td>0</td>\n",
       "      <td>3</td>\n",
       "      <td>Braund, Mr. Owen Harris</td>\n",
       "      <td>male</td>\n",
       "      <td>22.0</td>\n",
       "      <td>1</td>\n",
       "      <td>0</td>\n",
       "      <td>A/5 21171</td>\n",
       "      <td>7.2500</td>\n",
       "      <td>NaN</td>\n",
       "      <td>S</td>\n",
       "    </tr>\n",
       "    <tr>\n",
       "      <th>1</th>\n",
       "      <td>2</td>\n",
       "      <td>1</td>\n",
       "      <td>1</td>\n",
       "      <td>Cumings, Mrs. John Bradley (Florence Briggs Th...</td>\n",
       "      <td>female</td>\n",
       "      <td>38.0</td>\n",
       "      <td>1</td>\n",
       "      <td>0</td>\n",
       "      <td>PC 17599</td>\n",
       "      <td>71.2833</td>\n",
       "      <td>C85</td>\n",
       "      <td>C</td>\n",
       "    </tr>\n",
       "    <tr>\n",
       "      <th>2</th>\n",
       "      <td>3</td>\n",
       "      <td>1</td>\n",
       "      <td>3</td>\n",
       "      <td>Heikkinen, Miss. Laina</td>\n",
       "      <td>female</td>\n",
       "      <td>26.0</td>\n",
       "      <td>0</td>\n",
       "      <td>0</td>\n",
       "      <td>STON/O2. 3101282</td>\n",
       "      <td>7.9250</td>\n",
       "      <td>NaN</td>\n",
       "      <td>S</td>\n",
       "    </tr>\n",
       "    <tr>\n",
       "      <th>3</th>\n",
       "      <td>4</td>\n",
       "      <td>1</td>\n",
       "      <td>1</td>\n",
       "      <td>Futrelle, Mrs. Jacques Heath (Lily May Peel)</td>\n",
       "      <td>female</td>\n",
       "      <td>35.0</td>\n",
       "      <td>1</td>\n",
       "      <td>0</td>\n",
       "      <td>113803</td>\n",
       "      <td>53.1000</td>\n",
       "      <td>C123</td>\n",
       "      <td>S</td>\n",
       "    </tr>\n",
       "    <tr>\n",
       "      <th>4</th>\n",
       "      <td>5</td>\n",
       "      <td>0</td>\n",
       "      <td>3</td>\n",
       "      <td>Allen, Mr. William Henry</td>\n",
       "      <td>male</td>\n",
       "      <td>35.0</td>\n",
       "      <td>0</td>\n",
       "      <td>0</td>\n",
       "      <td>373450</td>\n",
       "      <td>8.0500</td>\n",
       "      <td>NaN</td>\n",
       "      <td>S</td>\n",
       "    </tr>\n",
       "  </tbody>\n",
       "</table>\n",
       "</div>"
      ],
      "text/plain": [
       "   PassengerId  Survived  Pclass  \\\n",
       "0            1         0       3   \n",
       "1            2         1       1   \n",
       "2            3         1       3   \n",
       "3            4         1       1   \n",
       "4            5         0       3   \n",
       "\n",
       "                                                Name     Sex   Age  SibSp  \\\n",
       "0                            Braund, Mr. Owen Harris    male  22.0      1   \n",
       "1  Cumings, Mrs. John Bradley (Florence Briggs Th...  female  38.0      1   \n",
       "2                             Heikkinen, Miss. Laina  female  26.0      0   \n",
       "3       Futrelle, Mrs. Jacques Heath (Lily May Peel)  female  35.0      1   \n",
       "4                           Allen, Mr. William Henry    male  35.0      0   \n",
       "\n",
       "   Parch            Ticket     Fare Cabin Embarked  \n",
       "0      0         A/5 21171   7.2500   NaN        S  \n",
       "1      0          PC 17599  71.2833   C85        C  \n",
       "2      0  STON/O2. 3101282   7.9250   NaN        S  \n",
       "3      0            113803  53.1000  C123        S  \n",
       "4      0            373450   8.0500   NaN        S  "
      ]
     },
     "execution_count": 10,
     "metadata": {},
     "output_type": "execute_result"
    }
   ],
   "source": [
    "# View the data\n",
    "dataset.head()"
   ]
  },
  {
   "cell_type": "code",
   "execution_count": 11,
   "id": "059fd845",
   "metadata": {},
   "outputs": [
    {
     "name": "stdout",
     "output_type": "stream",
     "text": [
      "(891, 12)\n"
     ]
    }
   ],
   "source": [
    "# Check number of rows and columns\n",
    "print(dataset.shape)"
   ]
  },
  {
   "cell_type": "code",
   "execution_count": 12,
   "id": "3a13be1e",
   "metadata": {},
   "outputs": [],
   "source": [
    "# Finding missing data\n",
    "missing_data=dataset.isnull().sum().to_frame()"
   ]
  },
  {
   "cell_type": "code",
   "execution_count": 13,
   "id": "1278213f",
   "metadata": {},
   "outputs": [],
   "source": [
    "missing_data=missing_data.rename(columns={0:\"Empty Cells\"})"
   ]
  },
  {
   "cell_type": "code",
   "execution_count": 14,
   "id": "b3b48179",
   "metadata": {},
   "outputs": [
    {
     "name": "stdout",
     "output_type": "stream",
     "text": [
      "             Empty Cells\n",
      "PassengerId            0\n",
      "Survived               0\n",
      "Pclass                 0\n",
      "Name                   0\n",
      "Sex                    0\n",
      "Age                  177\n",
      "SibSp                  0\n",
      "Parch                  0\n",
      "Ticket                 0\n",
      "Fare                   0\n",
      "Cabin                687\n",
      "Embarked               2\n"
     ]
    }
   ],
   "source": [
    "print(missing_data)"
   ]
  },
  {
   "cell_type": "code",
   "execution_count": 18,
   "id": "80f82d2f",
   "metadata": {},
   "outputs": [],
   "source": [
    "# View passengers with unknown age\n",
    "unknown_age=dataset[dataset[\"Age\"].isnull()]"
   ]
  },
  {
   "cell_type": "code",
   "execution_count": 22,
   "id": "4a496421",
   "metadata": {},
   "outputs": [
    {
     "data": {
      "text/html": [
       "<div>\n",
       "<style scoped>\n",
       "    .dataframe tbody tr th:only-of-type {\n",
       "        vertical-align: middle;\n",
       "    }\n",
       "\n",
       "    .dataframe tbody tr th {\n",
       "        vertical-align: top;\n",
       "    }\n",
       "\n",
       "    .dataframe thead th {\n",
       "        text-align: right;\n",
       "    }\n",
       "</style>\n",
       "<table border=\"1\" class=\"dataframe\">\n",
       "  <thead>\n",
       "    <tr style=\"text-align: right;\">\n",
       "      <th></th>\n",
       "      <th>PassengerId</th>\n",
       "      <th>Name</th>\n",
       "      <th>Survived</th>\n",
       "      <th>Age</th>\n",
       "    </tr>\n",
       "  </thead>\n",
       "  <tbody>\n",
       "    <tr>\n",
       "      <th>5</th>\n",
       "      <td>6</td>\n",
       "      <td>Moran, Mr. James</td>\n",
       "      <td>0</td>\n",
       "      <td>NaN</td>\n",
       "    </tr>\n",
       "    <tr>\n",
       "      <th>17</th>\n",
       "      <td>18</td>\n",
       "      <td>Williams, Mr. Charles Eugene</td>\n",
       "      <td>1</td>\n",
       "      <td>NaN</td>\n",
       "    </tr>\n",
       "    <tr>\n",
       "      <th>19</th>\n",
       "      <td>20</td>\n",
       "      <td>Masselmani, Mrs. Fatima</td>\n",
       "      <td>1</td>\n",
       "      <td>NaN</td>\n",
       "    </tr>\n",
       "    <tr>\n",
       "      <th>26</th>\n",
       "      <td>27</td>\n",
       "      <td>Emir, Mr. Farred Chehab</td>\n",
       "      <td>0</td>\n",
       "      <td>NaN</td>\n",
       "    </tr>\n",
       "    <tr>\n",
       "      <th>28</th>\n",
       "      <td>29</td>\n",
       "      <td>O'Dwyer, Miss. Ellen \"Nellie\"</td>\n",
       "      <td>1</td>\n",
       "      <td>NaN</td>\n",
       "    </tr>\n",
       "    <tr>\n",
       "      <th>29</th>\n",
       "      <td>30</td>\n",
       "      <td>Todoroff, Mr. Lalio</td>\n",
       "      <td>0</td>\n",
       "      <td>NaN</td>\n",
       "    </tr>\n",
       "    <tr>\n",
       "      <th>31</th>\n",
       "      <td>32</td>\n",
       "      <td>Spencer, Mrs. William Augustus (Marie Eugenie)</td>\n",
       "      <td>1</td>\n",
       "      <td>NaN</td>\n",
       "    </tr>\n",
       "    <tr>\n",
       "      <th>32</th>\n",
       "      <td>33</td>\n",
       "      <td>Glynn, Miss. Mary Agatha</td>\n",
       "      <td>1</td>\n",
       "      <td>NaN</td>\n",
       "    </tr>\n",
       "    <tr>\n",
       "      <th>36</th>\n",
       "      <td>37</td>\n",
       "      <td>Mamee, Mr. Hanna</td>\n",
       "      <td>1</td>\n",
       "      <td>NaN</td>\n",
       "    </tr>\n",
       "    <tr>\n",
       "      <th>42</th>\n",
       "      <td>43</td>\n",
       "      <td>Kraeff, Mr. Theodor</td>\n",
       "      <td>0</td>\n",
       "      <td>NaN</td>\n",
       "    </tr>\n",
       "    <tr>\n",
       "      <th>45</th>\n",
       "      <td>46</td>\n",
       "      <td>Rogers, Mr. William John</td>\n",
       "      <td>0</td>\n",
       "      <td>NaN</td>\n",
       "    </tr>\n",
       "    <tr>\n",
       "      <th>46</th>\n",
       "      <td>47</td>\n",
       "      <td>Lennon, Mr. Denis</td>\n",
       "      <td>0</td>\n",
       "      <td>NaN</td>\n",
       "    </tr>\n",
       "    <tr>\n",
       "      <th>47</th>\n",
       "      <td>48</td>\n",
       "      <td>O'Driscoll, Miss. Bridget</td>\n",
       "      <td>1</td>\n",
       "      <td>NaN</td>\n",
       "    </tr>\n",
       "    <tr>\n",
       "      <th>48</th>\n",
       "      <td>49</td>\n",
       "      <td>Samaan, Mr. Youssef</td>\n",
       "      <td>0</td>\n",
       "      <td>NaN</td>\n",
       "    </tr>\n",
       "    <tr>\n",
       "      <th>55</th>\n",
       "      <td>56</td>\n",
       "      <td>Woolner, Mr. Hugh</td>\n",
       "      <td>1</td>\n",
       "      <td>NaN</td>\n",
       "    </tr>\n",
       "    <tr>\n",
       "      <th>64</th>\n",
       "      <td>65</td>\n",
       "      <td>Stewart, Mr. Albert A</td>\n",
       "      <td>0</td>\n",
       "      <td>NaN</td>\n",
       "    </tr>\n",
       "    <tr>\n",
       "      <th>65</th>\n",
       "      <td>66</td>\n",
       "      <td>Moubarek, Master. Gerios</td>\n",
       "      <td>1</td>\n",
       "      <td>NaN</td>\n",
       "    </tr>\n",
       "    <tr>\n",
       "      <th>76</th>\n",
       "      <td>77</td>\n",
       "      <td>Staneff, Mr. Ivan</td>\n",
       "      <td>0</td>\n",
       "      <td>NaN</td>\n",
       "    </tr>\n",
       "    <tr>\n",
       "      <th>77</th>\n",
       "      <td>78</td>\n",
       "      <td>Moutal, Mr. Rahamin Haim</td>\n",
       "      <td>0</td>\n",
       "      <td>NaN</td>\n",
       "    </tr>\n",
       "    <tr>\n",
       "      <th>82</th>\n",
       "      <td>83</td>\n",
       "      <td>McDermott, Miss. Brigdet Delia</td>\n",
       "      <td>1</td>\n",
       "      <td>NaN</td>\n",
       "    </tr>\n",
       "  </tbody>\n",
       "</table>\n",
       "</div>"
      ],
      "text/plain": [
       "    PassengerId                                            Name  Survived  Age\n",
       "5             6                                Moran, Mr. James         0  NaN\n",
       "17           18                    Williams, Mr. Charles Eugene         1  NaN\n",
       "19           20                         Masselmani, Mrs. Fatima         1  NaN\n",
       "26           27                         Emir, Mr. Farred Chehab         0  NaN\n",
       "28           29                   O'Dwyer, Miss. Ellen \"Nellie\"         1  NaN\n",
       "29           30                             Todoroff, Mr. Lalio         0  NaN\n",
       "31           32  Spencer, Mrs. William Augustus (Marie Eugenie)         1  NaN\n",
       "32           33                        Glynn, Miss. Mary Agatha         1  NaN\n",
       "36           37                                Mamee, Mr. Hanna         1  NaN\n",
       "42           43                             Kraeff, Mr. Theodor         0  NaN\n",
       "45           46                        Rogers, Mr. William John         0  NaN\n",
       "46           47                               Lennon, Mr. Denis         0  NaN\n",
       "47           48                       O'Driscoll, Miss. Bridget         1  NaN\n",
       "48           49                             Samaan, Mr. Youssef         0  NaN\n",
       "55           56                               Woolner, Mr. Hugh         1  NaN\n",
       "64           65                           Stewart, Mr. Albert A         0  NaN\n",
       "65           66                        Moubarek, Master. Gerios         1  NaN\n",
       "76           77                               Staneff, Mr. Ivan         0  NaN\n",
       "77           78                        Moutal, Mr. Rahamin Haim         0  NaN\n",
       "82           83                  McDermott, Miss. Brigdet Delia         1  NaN"
      ]
     },
     "execution_count": 22,
     "metadata": {},
     "output_type": "execute_result"
    }
   ],
   "source": [
    "unknown_age[[\"PassengerId\",\"Name\",\"Survived\",\"Age\"]][:20]"
   ]
  },
  {
   "cell_type": "code",
   "execution_count": 26,
   "id": "9c4b3396",
   "metadata": {},
   "outputs": [
    {
     "name": "stdout",
     "output_type": "stream",
     "text": [
      "The number of passengers missing age and cabin information: 158\n"
     ]
    }
   ],
   "source": [
    "# View passengers with missing cabin and age information\n",
    "missing_age=dataset[\"Age\"].isnull()\n",
    "missing_cabin=dataset[\"Cabin\"].isnull()\n",
    "missing_age_and_cabin=dataset[missing_age&missing_cabin]\n",
    "print(\"The number of passengers missing age and cabin information:\",len(missing_age_and_cabin))"
   ]
  },
  {
   "cell_type": "code",
   "execution_count": 35,
   "id": "9d52d1a2",
   "metadata": {},
   "outputs": [
    {
     "data": {
      "image/png": "[encoded data removed]",
      "text/plain": [
       "<Figure size 432x288 with 1 Axes>"
      ]
     },
     "metadata": {
      "needs_background": "light"
     },
     "output_type": "display_data"
    }
   ],
   "source": [
    "# Plotting histogram of missing classes\n",
    "plt.hist(dataset['Pclass'])\n",
    "plt.title('Ticket Class (All Passengers)')\n",
    "plt.show()"
   ]
  },
  {
   "cell_type": "code",
   "execution_count": 38,
   "id": "ea17e6d2",
   "metadata": {},
   "outputs": [
    {
     "data": {
      "image/png": "[encoded data removed]",
      "text/plain": [
       "<Figure size 432x288 with 1 Axes>"
      ]
     },
     "metadata": {
      "needs_background": "light"
     },
     "output_type": "display_data"
    }
   ],
   "source": [
    "# Plotting histogram of missing classes\n",
    "plt.hist(missing_age_and_cabin['Pclass'])\n",
    "plt.title('Ticket Class (Passengers Missing Cabin and Age Information)')\n",
    "plt.show()"
   ]
  },
  {
   "cell_type": "code",
   "execution_count": 40,
   "id": "e5200391",
   "metadata": {},
   "outputs": [
    {
     "name": "stdout",
     "output_type": "stream",
     "text": [
      "The average age on the ship was  29.69911764705882 years old\n"
     ]
    }
   ],
   "source": [
    "# Average age\n",
    "mean_age=np.mean(dataset[\"Age\"])\n",
    "print(\"The average age on the ship was \",mean_age,\"years old\")"
   ]
  },
  {
   "cell_type": "code",
   "execution_count": 41,
   "id": "4d4c59dc",
   "metadata": {},
   "outputs": [],
   "source": [
    "# Missing age as 0\n",
    "dataset[\"Age_2\"]=dataset[\"Age\"].fillna(0)"
   ]
  },
  {
   "cell_type": "code",
   "execution_count": 42,
   "id": "d6569476",
   "metadata": {},
   "outputs": [
    {
     "name": "stdout",
     "output_type": "stream",
     "text": [
      "The average age on the ship was 23.79929292929293 years old\n"
     ]
    }
   ],
   "source": [
    "mean_age=np.mean(dataset[\"Age_2\"])\n",
    "print(\"The average age on the ship was\",mean_age,\"years old\")"
   ]
  },
  {
   "cell_type": "code",
   "execution_count": 43,
   "id": "58064a84",
   "metadata": {},
   "outputs": [
    {
     "data": {
      "image/png": "[encoded data removed]",
      "text/plain": [
       "<Figure size 432x288 with 1 Axes>"
      ]
     },
     "metadata": {
      "needs_background": "light"
     },
     "output_type": "display_data"
    }
   ],
   "source": [
    "# Visualize distribution of missing ages\n",
    "plt.hist(dataset[\"Age_2\"])\n",
    "plt.show()"
   ]
  },
  {
   "cell_type": "code",
   "execution_count": 44,
   "id": "67cd9b0b",
   "metadata": {},
   "outputs": [
    {
     "name": "stdout",
     "output_type": "stream",
     "text": [
      "The original dataset had was (891, 13)\n"
     ]
    }
   ],
   "source": [
    "# Handling missing data\n",
    "print(\"The original dataset had was\",dataset.shape)"
   ]
  },
  {
   "cell_type": "code",
   "execution_count": 46,
   "id": "87401503",
   "metadata": {},
   "outputs": [
    {
     "name": "stdout",
     "output_type": "stream",
     "text": [
      "The shape of the clean dataset is now (889, 13)\n"
     ]
    }
   ],
   "source": [
    "clean_dataset=dataset.dropna(subset=[\"Embarked\"])\n",
    "clean_dataset=clean_dataset.reindex()\n",
    "print(\"The shape of the clean dataset is now\",clean_dataset.shape)"
   ]
  },
  {
   "cell_type": "code",
   "execution_count": 47,
   "id": "6861ff17",
   "metadata": {},
   "outputs": [
    {
     "name": "stdout",
     "output_type": "stream",
     "text": [
      "The mean age is 29.64209269662921\n"
     ]
    }
   ],
   "source": [
    "# Replacing missing values with mean\n",
    "mean_age=clean_dataset[\"Age\"].mean()\n",
    "print(\"The mean age is\",mean_age)"
   ]
  },
  {
   "cell_type": "code",
   "execution_count": 48,
   "id": "08d5bc29",
   "metadata": {},
   "outputs": [],
   "source": [
    "# Replacing missing age with average age\n",
    "clean_dataset[\"Age\"].fillna(mean_age,inplace=True)"
   ]
  },
  {
   "cell_type": "code",
   "execution_count": 57,
   "id": "6276d176",
   "metadata": {},
   "outputs": [
    {
     "name": "stdout",
     "output_type": "stream",
     "text": [
      "             Empty Cells\n",
      "PassengerId            0\n",
      "Survived               0\n",
      "Pclass                 0\n",
      "Name                   0\n",
      "Sex                    0\n",
      "Age                    0\n",
      "SibSp                  0\n",
      "Parch                  0\n",
      "Ticket                 0\n",
      "Fare                   0\n",
      "Cabin                  0\n",
      "Embarked               0\n",
      "Age_2                  0\n"
     ]
    }
   ],
   "source": [
    "# Checking if dataset no longer has missing values\n",
    "print(clean_dataset.isnull().sum().to_frame().rename(columns={0:\"Empty Cells\"}))"
   ]
  },
  {
   "cell_type": "code",
   "execution_count": 53,
   "id": "96945933",
   "metadata": {},
   "outputs": [],
   "source": [
    "# Assign unknown to records where \"cabin\" is empty\n",
    "clean_dataset[\"Cabin\"].fillna(\"Unknown\",inplace=True)"
   ]
  },
  {
   "cell_type": "code",
   "execution_count": 56,
   "id": "30a21f4f",
   "metadata": {},
   "outputs": [
    {
     "data": {
      "text/html": [
       "<div>\n",
       "<style scoped>\n",
       "    .dataframe tbody tr th:only-of-type {\n",
       "        vertical-align: middle;\n",
       "    }\n",
       "\n",
       "    .dataframe tbody tr th {\n",
       "        vertical-align: top;\n",
       "    }\n",
       "\n",
       "    .dataframe thead th {\n",
       "        text-align: right;\n",
       "    }\n",
       "</style>\n",
       "<table border=\"1\" class=\"dataframe\">\n",
       "  <thead>\n",
       "    <tr style=\"text-align: right;\">\n",
       "      <th></th>\n",
       "      <th>Empty Cells</th>\n",
       "    </tr>\n",
       "  </thead>\n",
       "  <tbody>\n",
       "    <tr>\n",
       "      <th>PassengerId</th>\n",
       "      <td>0</td>\n",
       "    </tr>\n",
       "    <tr>\n",
       "      <th>Survived</th>\n",
       "      <td>0</td>\n",
       "    </tr>\n",
       "    <tr>\n",
       "      <th>Pclass</th>\n",
       "      <td>0</td>\n",
       "    </tr>\n",
       "    <tr>\n",
       "      <th>Name</th>\n",
       "      <td>0</td>\n",
       "    </tr>\n",
       "    <tr>\n",
       "      <th>Sex</th>\n",
       "      <td>0</td>\n",
       "    </tr>\n",
       "    <tr>\n",
       "      <th>Age</th>\n",
       "      <td>0</td>\n",
       "    </tr>\n",
       "    <tr>\n",
       "      <th>SibSp</th>\n",
       "      <td>0</td>\n",
       "    </tr>\n",
       "    <tr>\n",
       "      <th>Parch</th>\n",
       "      <td>0</td>\n",
       "    </tr>\n",
       "    <tr>\n",
       "      <th>Ticket</th>\n",
       "      <td>0</td>\n",
       "    </tr>\n",
       "    <tr>\n",
       "      <th>Fare</th>\n",
       "      <td>0</td>\n",
       "    </tr>\n",
       "    <tr>\n",
       "      <th>Cabin</th>\n",
       "      <td>0</td>\n",
       "    </tr>\n",
       "    <tr>\n",
       "      <th>Embarked</th>\n",
       "      <td>0</td>\n",
       "    </tr>\n",
       "    <tr>\n",
       "      <th>Age_2</th>\n",
       "      <td>0</td>\n",
       "    </tr>\n",
       "  </tbody>\n",
       "</table>\n",
       "</div>"
      ],
      "text/plain": [
       "             Empty Cells\n",
       "PassengerId            0\n",
       "Survived               0\n",
       "Pclass                 0\n",
       "Name                   0\n",
       "Sex                    0\n",
       "Age                    0\n",
       "SibSp                  0\n",
       "Parch                  0\n",
       "Ticket                 0\n",
       "Fare                   0\n",
       "Cabin                  0\n",
       "Embarked               0\n",
       "Age_2                  0"
      ]
     },
     "execution_count": 56,
     "metadata": {},
     "output_type": "execute_result"
    }
   ],
   "source": [
    "# Checking if the assignment of new \"Unkown category was successful\"\n",
    "clean_dataset.isnull().sum().to_frame().rename(columns={0:\"Empty Cells\"})"
   ]
  },
  {
   "cell_type": "code",
   "execution_count": null,
   "id": "29a22cbf",
   "metadata": {},
   "outputs": [],
   "source": []
  }
 ],
 "metadata": {
  "kernelspec": {
   "display_name": "Python 3 (ipykernel)",
   "language": "python",
   "name": "python3"
  },
  "language_info": {
   "codemirror_mode": {
    "name": "ipython",
    "version": 3
   },
   "file_extension": ".py",
   "mimetype": "text/x-python",
   "name": "python",
   "nbconvert_exporter": "python",
   "pygments_lexer": "ipython3",
   "version": "3.7.3"
  }
 },
 "nbformat": 4,
 "nbformat_minor": 5
}
